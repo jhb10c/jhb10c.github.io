{
 "cells": [
  {
   "cell_type": "markdown",
   "metadata": {},
   "source": [
    "## Miller-Rabin Primality Test\n",
    "\n",
    "The Miller-Rabin algorithm is an algorithm that determines whether a given number is prime. The basis of the algorithm is dependent on the observation that if $N$ is prime then $|Z_N^*|=N-1$, and so for any\n",
    "number in $|Z_N^*|$ we have $a^{N-1} = 1 mod N$. Necessarily, a given integer N is prime if  $a^{N-1} = 1 mod N$ for all $a$ in $|Z_N^*|$. On the other hand, a given integer N is composite if there exists an $a$ such that  $a^{N-1} \\neq 1 mod N$. An element $a\\in Z_N$ such that  $a^{N-1} \\neq 1 mod N$ is called a witness that N is composite, shortened to be witness.\n",
    "\n",
    "To test whether a given integer N is prime, the Miller-Rabin algorithm chooses a random element and determines if it is a witness. The best case scenario is that if N is not prime then there is a large probability that a random element is a witness. The following can be shown.\n",
    "\n",
    "**Lemma.** Fix N. Say there exists a witness that N is composite. Then at least half the elements of $ Z_N^*$ are witnesses that N is composite.\n",
    "\n",
    "However, there are infinitely-many composite numbers N that do not have any witnesses! \n",
    "\n",
    "\n",
    "\n"
   ]
  },
  {
   "cell_type": "markdown",
   "metadata": {},
   "source": [
    "## Problem 1 \n",
    "\n",
    "Construct a function that determines whether $a\\in Z_N^*$ is a witness given $N$.\n"
   ]
  },
  {
   "cell_type": "code",
   "execution_count": null,
   "metadata": {},
   "outputs": [],
   "source": []
  },
  {
   "cell_type": "markdown",
   "metadata": {},
   "source": [
    "## Problem 2 \n",
    "\n",
    "Further, if there exists a non-identity element of $a\\in Z_N$ that is not an element of $Z_N^*$ then $N$ is not prime. Construct a function that determines whether $a\\in Z_N$ is an element of $a\\in Z_N^*$.\n"
   ]
  },
  {
   "cell_type": "code",
   "execution_count": null,
   "metadata": {},
   "outputs": [],
   "source": []
  },
  {
   "cell_type": "markdown",
   "metadata": {},
   "source": [
    "## Refining Witnesses\n",
    "\n",
    "Let $N - 1 = 2^ru$ where u is odd and $r \\geq 1$. We say that $a \\in Z_N^*$ is a strong witness that N is composite (or simply a strong witness) if $a^{u}\\neq \\pm 1 mod N$ and $a^{2^{i}-1}\\neq -1 mod N$ for all $\\{1,\\ldots,  r-1\\}.$ It follows that if $a$ is not a strong witness then $a$ is not a witness. Since $a^{N-1} = a^{2^{r-1}u} = \\pm 1 mod N$ and it can be shown that $a^{N-1}=1 mod N$. Conversely if $a$ is a witness then it is a strong witness. \n",
    "\n",
    "Note also that when an element $a$ is not a strong witness then the sequence $(a^u, a^{2u}, \\ldots a^{2^ru})$, takes the following forms: $(\\pm 1, 1, \\ldots,  1)$ or $(*,\\ldots,*,- 1, 1, \\ldots , 1)$ where $*$ denotes an arbitrary term.\n",
    "\n",
    "The following two lemmas can be shown for strong witnesses.\n",
    "\n",
    "**Lemma.** If N is a prime then there is no strong witness for N.\n",
    "\n",
    "\n",
    "**Lemma.** Let N be an odd, composite number that is not a prime\n",
    "power. Then at least half the elements of $ Z_N^*$ are strong witnesses that N is composite.\n",
    "\n",
    "\n"
   ]
  },
  {
   "cell_type": "markdown",
   "metadata": {},
   "source": [
    "## Problem 3\n",
    "\n",
    "Construct a function that determines whether $a\\in Z_N^*$ is a strong witness given $N$.\n"
   ]
  },
  {
   "cell_type": "code",
   "execution_count": null,
   "metadata": {},
   "outputs": [],
   "source": []
  },
  {
   "cell_type": "markdown",
   "metadata": {},
   "source": [
    "## Problem 4 \n",
    "\n",
    "An integer N is a perfect power if $N = M^ e$ for some integers $M$ and $e > 1$. Construct a function that determines whether $N$ is a perfect power."
   ]
  },
  {
   "cell_type": "code",
   "execution_count": null,
   "metadata": {},
   "outputs": [],
   "source": []
  },
  {
   "cell_type": "markdown",
   "metadata": {},
   "source": [
    "## The Algorithm\n",
    "\n",
    "With the previous results, we can now implement the Miller-Rabin test.\n",
    "\n",
    "**The Miller-Rabin primality test**\n",
    "\n",
    "Input: Integer $N$ and parameter $t$  \n",
    "Output: A decision as to whether $N$ is prime or composite  \n",
    "\n",
    "\n",
    "if $N$ is even, return false  \n",
    "if $N$ is a perfect power, return false  \n",
    "compute $r \\geq 1$ and $u$ odd such that $N - 1 = 2^ru$   \n",
    "for $j = 1$ to $t$:  \n",
    "\n",
    "        uniformly select an element a from {1,..., N - 1}  \n",
    "        if gcd(a,N)= 1 return false\n",
    "        if a is a strong witness return false\n",
    "\n",
    "return true"
   ]
  },
  {
   "cell_type": "markdown",
   "metadata": {},
   "source": [
    "## Problem 5\n",
    "\n",
    "Implement the Miller-Rabin primality test. Note that random.randint(a, b) randomly selects an integer from the range [a,b]. Note this function is not a true source of randomness. "
   ]
  },
  {
   "cell_type": "code",
   "execution_count": 24,
   "metadata": {},
   "outputs": [
    {
     "data": {
      "text/plain": [
       "4"
      ]
     },
     "execution_count": 24,
     "metadata": {},
     "output_type": "execute_result"
    }
   ],
   "source": [
    "import random\n",
    "random.randint(1,10)"
   ]
  },
  {
   "cell_type": "code",
   "execution_count": null,
   "metadata": {},
   "outputs": [],
   "source": []
  }
 ],
 "metadata": {
  "kernelspec": {
   "display_name": "Python 3",
   "language": "python",
   "name": "python3"
  },
  "language_info": {
   "codemirror_mode": {
    "name": "ipython",
    "version": 3
   },
   "file_extension": ".py",
   "mimetype": "text/x-python",
   "name": "python",
   "nbconvert_exporter": "python",
   "pygments_lexer": "ipython3",
   "version": "3.8.5"
  }
 },
 "nbformat": 4,
 "nbformat_minor": 4
}
