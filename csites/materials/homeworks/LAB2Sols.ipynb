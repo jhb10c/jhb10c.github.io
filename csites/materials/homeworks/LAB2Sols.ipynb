{
 "cells": [
  {
   "cell_type": "markdown",
   "metadata": {},
   "source": [
    "## Lab 2\n",
    "\n",
    "In this programming lab, you will write a program that allows you to \"crack\" ciphertexts generated using a byte-wise XOR Vigenere cipher.\n",
    "\n",
    "\n",
    "Specifically, the ciphertext:\n",
    "\n",
    "**ciphertext**='F96DE8C227A259C87EE1DA2AED57C93FE5DA36ED4EC87EF2C63AAE5B9A7EFFD673BE4ACF7BE8923CAB1ECE7AF2DA3DA4\n",
    "4FCF7AE29235A24C963FF0DF3CA3599A70E5DA36BF1ECE77F8DC34BE129A6CF4D126BF5B9A7CFEDF3EB850D37CF0C63AA2509A76FF9227A5\n",
    "5B9A6FE3D720A850D97AB1DD35ED5FCE6BF0D138A84CC931B1F121B44ECE70F6C032BD56C33FF9D320ED5CDF7AFF9226BE5BDE3FF7DD21ED\n",
    "56CF71F5C036A94D963FF8D473A351CE3FE5DA3CB84DDB71F5C17FED51DC3FE8D732BF4D963FF3C727ED4AC87EF5DB27A451D47EFD9230BF\n",
    "47CA6BFEC12ABE4ADF72E29224A84CDF3FF5D720A459D47AF59232A35A9A7AE7D33FB85FCE7AF5923AA31EDB3FF7D33ABF52C33FF0D673A5\n",
    "51D93FFCD33DA35BC831B1F43CBF1EDF67F0DF23A15B963FE5DA36ED68D378F4DC36BF5B9A7AFFD121B44ECE76FEDC73BE5DD27AFCD773BA\n",
    "5FC93FE5DA3CB859D26BB1C63CED5CDF3FE2D730B84CDF3FF7DD21ED5ADF7CF0D636BE1EDB79E5D721ED57CE3FE6D320ED57D469F4DC27A8\n",
    "5A963FF3C727ED49DF3FFFDD24ED55D470E69E73AC50DE3FE5DA3ABE1EDF67F4C030A44DDF3FF5D73EA250C96BE3D327A84D963FE5DA32B9\n",
    "1ED36BB1D132A31ED87AB1D021A255DF71B1C436BF479A7AF0C13AA14794'.\n",
    "\n",
    "This cipher text can be loaded by running the next cell and is called by the variable name ciphertext.  The plaintext contains upper- and lower-case letters, punctuation, and spaces, but no numbers. The key length is between 2-16 characters long. \n",
    "\n",
    "\n",
    "\n",
    "\n"
   ]
  },
  {
   "cell_type": "code",
   "execution_count": 1,
   "metadata": {},
   "outputs": [],
   "source": [
    "ciphertext = 'F96DE8C227A259C87EE1DA2AED57C93FE5DA36ED4EC87EF2C63AAE5B9A7EFFD673BE4ACF7BE8923CAB1ECE7AF2DA3DA44FCF7AE29235A24C963FF0DF3CA3599A70E5DA36BF1ECE77F8DC34BE129A6CF4D126BF5B9A7CFEDF3EB850D37CF0C63AA2509A76FF9227A55B9A6FE3D720A850D97AB1DD35ED5FCE6BF0D138A84CC931B1F121B44ECE70F6C032BD56C33FF9D320ED5CDF7AFF9226BE5BDE3FF7DD21ED56CF71F5C036A94D963FF8D473A351CE3FE5DA3CB84DDB71F5C17FED51DC3FE8D732BF4D963FF3C727ED4AC87EF5DB27A451D47EFD9230BF47CA6BFEC12ABE4ADF72E29224A84CDF3FF5D720A459D47AF59232A35A9A7AE7D33FB85FCE7AF5923AA31EDB3FF7D33ABF52C33FF0D673A551D93FFCD33DA35BC831B1F43CBF1EDF67F0DF23A15B963FE5DA36ED68D378F4DC36BF5B9A7AFFD121B44ECE76FEDC73BE5DD27AFCD773BA5FC93FE5DA3CB859D26BB1C63CED5CDF3FE2D730B84CDF3FF7DD21ED5ADF7CF0D636BE1EDB79E5D721ED57CE3FE6D320ED57D469F4DC27A85A963FF3C727ED49DF3FFFDD24ED55D470E69E73AC50DE3FE5DA3ABE1EDF67F4C030A44DDF3FF5D73EA250C96BE3D327A84D963FE5DA32B91ED36BB1D132A31ED87AB1D021A255DF71B1C436BF479A7AF0C13AA14794'"
   ]
  },
  {
   "cell_type": "markdown",
   "metadata": {},
   "source": [
    "To help with the implementation of the solution, we will need a bytewise vigenere cipher. "
   ]
  },
  {
   "cell_type": "code",
   "execution_count": 2,
   "metadata": {},
   "outputs": [
    {
     "data": {
      "text/plain": [
       "'hello this is a sample'"
      ]
     },
     "execution_count": 2,
     "metadata": {},
     "output_type": "execute_result"
    }
   ],
   "source": [
    "def chartoint(message):\n",
    "    \"\"\"converts ascii string to corresponding list of integers\"\"\"\n",
    "    chex = []\n",
    "    for i in range(0,len(message)):\n",
    "        # ord is a function that takes an ascii character and returns decimal form \n",
    "        chex.append(ord(message[i]))\n",
    "    return chex\n",
    "\n",
    "\n",
    "def inttochar(message):\n",
    "    \"\"\"converts list of integers to corresponding ascii string\"\"\"\n",
    "    hold = ''\n",
    "    for i in message:\n",
    "        # chr is a function that takes a decimal character and returns ascii form \n",
    "        hold=hold + chr(i)\n",
    "    return hold\n",
    "\n",
    "\n",
    "def hextoint(message):\n",
    "    \"\"\"converts string of hex numbers to corresponding list of integers.\n",
    "    HINT: USE THIS TO CONVERT ciphertext to list of integers.\"\"\"\n",
    "    chex = []\n",
    "    for i in range(0,len(message),2):\n",
    "        chex.append(int(message[i:i+2],16))\n",
    "    return chex\n",
    "\n",
    "\n",
    "\n",
    "samplemessage='hello this is a sample'\n",
    "\n",
    "inttochar(chartoint(samplemessage))"
   ]
  },
  {
   "cell_type": "markdown",
   "metadata": {},
   "source": [
    "To implement the vigenere cipher we will make the following assumptions.\n",
    "\n",
    "<ul>\n",
    "<li>The message is a list of integers between 0-255\n",
    "<li>The key will be a list of integers between 0-255\n",
    "<li>The ciphertext is a list of integers between 0-255\n",
    "</ul>\n",
    "    "
   ]
  },
  {
   "cell_type": "code",
   "execution_count": 3,
   "metadata": {},
   "outputs": [
    {
     "name": "stdout",
     "output_type": "stream",
     "text": [
      "[9, 7, 15, 13, 13, 67, 21, 10, 10, 18, 66, 10, 18, 66, 2, 65, 17, 2, 12, 18, 15, 4]\n"
     ]
    }
   ],
   "source": [
    "def rotate(lista,n):\n",
    "    \"\"\"This function shifts a string by n characters\"\"\"\n",
    "    return lista[n:]+lista[:n]\n",
    "\n",
    "\n",
    "def vigenere(message,key):\n",
    "    \"\"\"vigenere encryption/decryption algorithm\"\"\"\n",
    "    hold = [] \n",
    "    for i in message:\n",
    "        hold.append(i^key[0])\n",
    "        key=rotate(key,1)\n",
    "    return hold \n",
    "\n",
    "samplekey='abc'\n",
    "\n",
    "samplecipher=vigenere(chartoint(samplemessage),chartoint(samplekey))\n",
    "\n",
    "print(samplecipher)\n"
   ]
  },
  {
   "cell_type": "markdown",
   "metadata": {},
   "source": [
    "To see the ciphertext as characters we can use the inttochar function."
   ]
  },
  {
   "cell_type": "code",
   "execution_count": 4,
   "metadata": {},
   "outputs": [
    {
     "name": "stdout",
     "output_type": "stream",
     "text": [
      "\t\u0007\u000f\r",
      "\r",
      "C\u0015\n",
      "\n",
      "\u0012B\n",
      "\u0012B\u0002A\u0011\u0002\f",
      "\u0012\u000f\u0004\n"
     ]
    }
   ],
   "source": [
    "print(inttochar(samplecipher))\n"
   ]
  },
  {
   "cell_type": "markdown",
   "metadata": {},
   "source": [
    "To decrypt, we can use the vigenere function along with the same key. Make note that the inputs should be a list of integers. \n"
   ]
  },
  {
   "cell_type": "code",
   "execution_count": 5,
   "metadata": {},
   "outputs": [
    {
     "name": "stdout",
     "output_type": "stream",
     "text": [
      "[104, 101, 108, 108, 111, 32, 116, 104, 105, 115, 32, 105, 115, 32, 97, 32, 115, 97, 109, 112, 108, 101]\n",
      "hello this is a sample\n"
     ]
    }
   ],
   "source": [
    "decrpytedcipher = vigenere(samplecipher,chartoint(samplekey))\n",
    "print(decrpytedcipher)\n",
    "print(inttochar(decrpytedcipher))\n"
   ]
  },
  {
   "cell_type": "markdown",
   "metadata": {},
   "source": [
    "## Hints\n",
    "\n",
    "To start off here are a few hints. \n",
    "<ul>\n",
    "<li>Remember to crack the vigenere cipher there are two steps: first find the length of the key; second find the shift of each character of the key.\n",
    "<li>To start off convert the ciphertext into a list of integers and try and find the length of the key.\n",
    "<li>Below is a dictionary from the frequency of the lowercase english letters a-z. \n",
    "</ul>\n",
    "\n"
   ]
  },
  {
   "cell_type": "code",
   "execution_count": 6,
   "metadata": {},
   "outputs": [
    {
     "name": "stdout",
     "output_type": "stream",
     "text": [
      "0.082\n",
      "0.015\n",
      "0.028\n",
      "0.043\n",
      "0.127\n",
      "0.022\n",
      "0.02\n",
      "0.061\n",
      "0.07\n",
      "0.02\n",
      "0.08\n",
      "0.04\n",
      "0.024\n",
      "0.067\n",
      "0.015\n",
      "0.019\n",
      "0.001\n",
      "0.06\n",
      "0.063\n",
      "0.091\n",
      "0.028\n",
      "0.01\n",
      "0.024\n",
      "0.002\n",
      "0.02\n",
      "0.001\n"
     ]
    }
   ],
   "source": [
    "freq=[.082,.015,.028,.043,.127,.022,.020,.061,.070,.02,.08,.04,.024,.067,.015,.019,.001,.06,.063,.091,.028,.01,.024,0.002,.02,.001]\n",
    "lowercasedic={}\n",
    "count = 0\n",
    "\n",
    "for i in range(97,123):\n",
    "    lowercasedic[i]=freq[count]\n",
    "    count= count +1 \n",
    "\n",
    "    \n",
    "#Dictionaries have is a set of pairs {key;value}. To call a value, you must refer to the key.\n",
    "lowercasedic[97]\n",
    "\n",
    "# Generally Dictionaries are very useful and have a wide range of functionality. \n",
    "# One that could be of use if the values method. This allows you to call all the values in a dictionary\n",
    "# to a list. \n",
    "\n",
    "lowercasedic.values()\n",
    "\n",
    "# you can loop through them\n",
    "for i in lowercasedic.values():\n",
    "    print(i)"
   ]
  },
  {
   "cell_type": "markdown",
   "metadata": {},
   "source": [
    "Finally python has a way of generating subsequences relatively quickly. Suppose you have a list of numbers 1-100. If you wanted to partition the list into the modular classes base 10 this would be done using the :: operation. "
   ]
  },
  {
   "cell_type": "code",
   "execution_count": 7,
   "metadata": {},
   "outputs": [
    {
     "name": "stdout",
     "output_type": "stream",
     "text": [
      "[0, 1, 2, 3, 4, 5, 6, 7, 8, 9, 10, 11, 12, 13, 14, 15, 16, 17, 18, 19, 20, 21, 22, 23, 24, 25, 26, 27, 28, 29, 30, 31, 32, 33, 34, 35, 36, 37, 38, 39, 40, 41, 42, 43, 44, 45, 46, 47, 48, 49, 50, 51, 52, 53, 54, 55, 56, 57, 58, 59, 60, 61, 62, 63, 64, 65, 66, 67, 68, 69, 70, 71, 72, 73, 74, 75, 76, 77, 78, 79, 80, 81, 82, 83, 84, 85, 86, 87, 88, 89, 90, 91, 92, 93, 94, 95, 96, 97, 98, 99]\n"
     ]
    },
    {
     "data": {
      "text/plain": [
       "[2, 12, 22, 32, 42, 52, 62, 72, 82, 92]"
      ]
     },
     "execution_count": 7,
     "metadata": {},
     "output_type": "execute_result"
    }
   ],
   "source": [
    "firsthund=[x for x in range(0,100)]\n",
    "print(firsthund)\n",
    "\n",
    "#All numbers in 0 modular classes base \n",
    "firsthund[0::10]\n",
    "\n",
    "#The first number is the representation of the modular class base n and the second number determines the base of \n",
    "#the modular class\n",
    "firsthund[2::10]\n",
    "\n",
    "\n",
    "#This is extremely useful if you are looking to partition a list into different subsequences. "
   ]
  },
  {
   "cell_type": "code",
   "execution_count": 8,
   "metadata": {},
   "outputs": [],
   "source": [
    "#Chex is a cipher represent as a list of integer values\n",
    "#hexa is a list of integers from 0-256\n",
    "\n",
    "chex = hextoint(ciphertext)\n",
    "hexa=[x for x in range (0,256)]\n",
    "    "
   ]
  },
  {
   "cell_type": "code",
   "execution_count": 9,
   "metadata": {},
   "outputs": [
    {
     "data": {
      "text/plain": [
       "[7]"
      ]
     },
     "execution_count": 9,
     "metadata": {},
     "output_type": "execute_result"
    }
   ],
   "source": [
    "def frequencyCount(letter,stringnames):\n",
    "    \"\"\"returns frequencey of a given character\"\"\"\n",
    "    count = 0\n",
    "    for i in stringnames:\n",
    "        if i == letter:\n",
    "            count = count+ 1\n",
    "            \n",
    "    return count/len(stringnames)\n",
    "\n",
    "def checkfrequencies(checklist,checkagainest):\n",
    "    \"\"\"returns frequency of all characters in list \"\"\"\n",
    "    dictfreq = {}\n",
    "    for i in checkagainest:\n",
    "        dictfreq[i] = frequencyCount(i,checklist)\n",
    "    return dictfreq\n",
    "        \n",
    "    \n",
    "def computeinvariant(diction):\n",
    "    \"\"\"computes the sum of squared frequency of each character in the inputed \n",
    "    dIctionary\"\"\"\n",
    "    suma = 0 \n",
    "    for i in diction.values():\n",
    "        suma = suma + i**2\n",
    "    return suma\n",
    "\n",
    "\n",
    "def findkeylength(cipher):\n",
    "    hold = {}\n",
    "    for i in range(1,14):\n",
    "        hold[i]=computeinvariant(checkfrequencies(cipher[0::i],hexa))\n",
    "    max_value = max(hold.values())\n",
    "    new = [k for k, v in hold.items() if v == max_value]\n",
    "    \n",
    "    return new\n",
    "    #return hold\n",
    "\n",
    "\n",
    "findkeylength(chex)"
   ]
  },
  {
   "cell_type": "code",
   "execution_count": 10,
   "metadata": {},
   "outputs": [
    {
     "data": {
      "text/plain": [
       "[186, 31, 145, 178, 83, 205, 62]"
      ]
     },
     "execution_count": 10,
     "metadata": {},
     "output_type": "execute_result"
    }
   ],
   "source": [
    "freq=[.082,.015,.028,.043,.127,.022,.020,.061,.070,.02,.08,.04,.024,.067,.015,.019,.001,.06,.063,.091,.028,.01,.024,0.002,.02,.001]\n",
    "lowercasedic={}\n",
    "count = 0\n",
    "for i in range(97,123):\n",
    "    lowercasedic[i]=freq[count]\n",
    "    count= count +1 \n",
    "\n",
    "lowercasedic\n",
    "\n",
    "def shiftcheck(partition):\n",
    "    \n",
    "    shift = []\n",
    "    for j in hexa:\n",
    "        count = 0\n",
    "        for i in partition:\n",
    "            check = i^j\n",
    "            if check>=32 and check<=126:\n",
    "                count = count+1\n",
    "        \n",
    "        if count == len(partition):\n",
    "            shift.append([j])\n",
    "    return shift\n",
    "\n",
    "def shiftcipher(partition,shift):\n",
    "    newshift = []\n",
    "    for i in partition:\n",
    "        newshift.append(i^shift)\n",
    "    return newshift\n",
    "\n",
    "def calculateinvarient(partition,possibleshifts):\n",
    "    findmax ={}\n",
    "    for i in possibleshifts:\n",
    "        shifted = shiftcipher(partition,i[0])\n",
    "        sumhold = 0\n",
    "        for j in checkfrequencies(shifted,list(range(97,123))).keys():\n",
    "            sumhold=sumhold+checkfrequencies(shifted,list(range(97,123)))[j]*lowercasedic[j]\n",
    "        findmax[i[0]]=sumhold\n",
    "        \n",
    "    max_value = max(findmax.values())\n",
    "    new = [k for k, v in findmax.items() if v == max_value]\n",
    "    \n",
    "    return new[0]\n",
    "\n",
    "\n",
    "def findkey(cipherlist):\n",
    "    lista = []\n",
    "    for i in range(0,7):\n",
    "        lista.append(calculateinvarient(cipherlist[i::7],shiftcheck(cipherlist[i::7])))\n",
    "    return lista\n",
    "\n",
    "findkey(chex)"
   ]
  },
  {
   "cell_type": "code",
   "execution_count": 19,
   "metadata": {},
   "outputs": [
    {
     "name": "stdout",
     "output_type": "stream",
     "text": [
      "Cryptography is the practice and study of techniques for, among other things, secure communication in the presence of attackers. Cryptography has been used for hundreds, if not thousands, of years, but traditional cryptosystems were designed and evaluated in a fairly ad hoc manner. For example, the Vigenere encryption scheme was thought to be secure for decades after it was invented, but we now know, and this exercise demonstrates, that it can be broken very easily.\n"
     ]
    }
   ],
   "source": [
    "decrpytedcipher = vigenere(chex,findkey(chex))\n",
    "print(inttochar(decrpytedcipher))\n",
    "\n"
   ]
  },
  {
   "cell_type": "code",
   "execution_count": 11,
   "metadata": {},
   "outputs": [
    {
     "data": {
      "text/plain": [
       "[97, 98, 99]"
      ]
     },
     "execution_count": 11,
     "metadata": {},
     "output_type": "execute_result"
    }
   ],
   "source": []
  },
  {
   "cell_type": "code",
   "execution_count": null,
   "metadata": {},
   "outputs": [],
   "source": []
  },
  {
   "cell_type": "code",
   "execution_count": null,
   "metadata": {},
   "outputs": [],
   "source": []
  },
  {
   "cell_type": "code",
   "execution_count": null,
   "metadata": {},
   "outputs": [],
   "source": []
  },
  {
   "cell_type": "code",
   "execution_count": null,
   "metadata": {},
   "outputs": [],
   "source": []
  }
 ],
 "metadata": {
  "kernelspec": {
   "display_name": "Python 3",
   "language": "python",
   "name": "python3"
  },
  "language_info": {
   "codemirror_mode": {
    "name": "ipython",
    "version": 3
   },
   "file_extension": ".py",
   "mimetype": "text/x-python",
   "name": "python",
   "nbconvert_exporter": "python",
   "pygments_lexer": "ipython3",
   "version": "3.8.5"
  }
 },
 "nbformat": 4,
 "nbformat_minor": 4
}
