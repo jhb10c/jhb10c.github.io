{
 "cells": [
  {
   "cell_type": "markdown",
   "metadata": {},
   "source": [
    "## Lab 2\n",
    "\n",
    "In this programming lab, you will write a program that allows you to \"crack\" ciphertexts generated using a byte-wise XOR Vigenere cipher.\n",
    "\n",
    "\n",
    "Specifically, the ciphertext:\n",
    "\n",
    "**ciphertext**='F96DE8C227A259C87EE1DA2AED57C93FE5DA36ED4EC87EF2C63AAE5B9A7EFFD673BE4ACF7BE8923CAB1ECE7AF2DA3DA4\n",
    "4FCF7AE29235A24C963FF0DF3CA3599A70E5DA36BF1ECE77F8DC34BE129A6CF4D126BF5B9A7CFEDF3EB850D37CF0C63AA2509A76FF9227A5\n",
    "5B9A6FE3D720A850D97AB1DD35ED5FCE6BF0D138A84CC931B1F121B44ECE70F6C032BD56C33FF9D320ED5CDF7AFF9226BE5BDE3FF7DD21ED\n",
    "56CF71F5C036A94D963FF8D473A351CE3FE5DA3CB84DDB71F5C17FED51DC3FE8D732BF4D963FF3C727ED4AC87EF5DB27A451D47EFD9230BF\n",
    "47CA6BFEC12ABE4ADF72E29224A84CDF3FF5D720A459D47AF59232A35A9A7AE7D33FB85FCE7AF5923AA31EDB3FF7D33ABF52C33FF0D673A5\n",
    "51D93FFCD33DA35BC831B1F43CBF1EDF67F0DF23A15B963FE5DA36ED68D378F4DC36BF5B9A7AFFD121B44ECE76FEDC73BE5DD27AFCD773BA\n",
    "5FC93FE5DA3CB859D26BB1C63CED5CDF3FE2D730B84CDF3FF7DD21ED5ADF7CF0D636BE1EDB79E5D721ED57CE3FE6D320ED57D469F4DC27A8\n",
    "5A963FF3C727ED49DF3FFFDD24ED55D470E69E73AC50DE3FE5DA3ABE1EDF67F4C030A44DDF3FF5D73EA250C96BE3D327A84D963FE5DA32B9\n",
    "1ED36BB1D132A31ED87AB1D021A255DF71B1C436BF479A7AF0C13AA14794'.\n",
    "\n",
    "This cipher text can be loaded by running the next cell and is called by the variable name ciphertext.  The plaintext contains upper- and lower-case letters, punctuation, and spaces, but no numbers. The key length is between 2-16 characters long. \n",
    "\n",
    "\n",
    "\n",
    "\n"
   ]
  },
  {
   "cell_type": "code",
   "execution_count": 45,
   "metadata": {},
   "outputs": [],
   "source": [
    "ciphertext = 'F96DE8C227A259C87EE1DA2AED57C93FE5DA36ED4EC87EF2C63AAE5B9A7EFFD673BE4ACF7BE8923CAB1ECE7AF2DA3DA44FCF7AE29235A24C963FF0DF3CA3599A70E5DA36BF1ECE77F8DC34BE129A6CF4D126BF5B9A7CFEDF3EB850D37CF0C63AA2509A76FF9227A55B9A6FE3D720A850D97AB1DD35ED5FCE6BF0D138A84CC931B1F121B44ECE70F6C032BD56C33FF9D320ED5CDF7AFF9226BE5BDE3FF7DD21ED56CF71F5C036A94D963FF8D473A351CE3FE5DA3CB84DDB71F5C17FED51DC3FE8D732BF4D963FF3C727ED4AC87EF5DB27A451D47EFD9230BF47CA6BFEC12ABE4ADF72E29224A84CDF3FF5D720A459D47AF59232A35A9A7AE7D33FB85FCE7AF5923AA31EDB3FF7D33ABF52C33FF0D673A551D93FFCD33DA35BC831B1F43CBF1EDF67F0DF23A15B963FE5DA36ED68D378F4DC36BF5B9A7AFFD121B44ECE76FEDC73BE5DD27AFCD773BA5FC93FE5DA3CB859D26BB1C63CED5CDF3FE2D730B84CDF3FF7DD21ED5ADF7CF0D636BE1EDB79E5D721ED57CE3FE6D320ED57D469F4DC27A85A963FF3C727ED49DF3FFFDD24ED55D470E69E73AC50DE3FE5DA3ABE1EDF67F4C030A44DDF3FF5D73EA250C96BE3D327A84D963FE5DA32B91ED36BB1D132A31ED87AB1D021A255DF71B1C436BF479A7AF0C13AA14794'"
   ]
  },
  {
   "cell_type": "markdown",
   "metadata": {},
   "source": [
    "To help with the implementation of the solution, we will need a bytewise vigenere cipher. "
   ]
  },
  {
   "cell_type": "code",
   "execution_count": 1,
   "metadata": {},
   "outputs": [],
   "source": [
    "def chartoint(message):\n",
    "    \"\"\"converts ascii string to corresponding list of integers\"\"\"\n",
    "    chex = []\n",
    "    for i in range(0,len(message)):\n",
    "        # ord is a function that takes an ascii character and returns decimal form \n",
    "        chex.append(ord(message[i]))\n",
    "    return chex\n",
    "\n",
    "\n",
    "def inttochar(message):\n",
    "    \"\"\"converts list of integers to corresponding ascii string\"\"\"\n",
    "    hold = ''\n",
    "    for i in message:\n",
    "        # chr is a function that takes a decimal character and returns ascii form \n",
    "        hold=hold + chr(i)\n",
    "    return hold\n",
    "\n",
    "\n",
    "def hextoint(message):\n",
    "    \"\"\"converts string of hex numbers to corresponding list of integers.\n",
    "    HINT: USE THIS TO CONVERT ciphertext to list of integers.\"\"\"\n",
    "    chex = []\n",
    "    for i in range(0,len(message),2):\n",
    "        chex.append(int(message[i:i+2],16))\n",
    "    return chex\n"
   ]
  },
  {
   "cell_type": "markdown",
   "metadata": {},
   "source": [
    "To implement the vigenere cipher we will make the following assumptions.\n",
    "\n",
    "<ul>\n",
    "<li>The message is a list of integers between 0-255\n",
    "<li>The key will be a list of integers between 0-255\n",
    "<li>The ciphertext is a list of integers between 0-255\n",
    "</ul>\n",
    "    "
   ]
  },
  {
   "cell_type": "code",
   "execution_count": 2,
   "metadata": {},
   "outputs": [],
   "source": [
    "def rotate(lista,n):\n",
    "    \"\"\"This function shifts a string by n characters\"\"\"\n",
    "    return lista[n:]+lista[:n]\n",
    "\n",
    "\n",
    "def vigenere(message,key):\n",
    "    \"\"\"vigenere encryption/decryption algorithm\"\"\"\n",
    "    hold = [] \n",
    "    for i in message:\n",
    "        hold.append(i^key[0])\n",
    "        key=rotate(key,1)\n",
    "    return hold \n",
    "\n"
   ]
  },
  {
   "cell_type": "markdown",
   "metadata": {},
   "source": [
    "To see the ciphertext as characters we can use the inttochar function."
   ]
  },
  {
   "cell_type": "code",
   "execution_count": null,
   "metadata": {},
   "outputs": [],
   "source": []
  },
  {
   "cell_type": "markdown",
   "metadata": {},
   "source": [
    "To decrypt, we can use the vigenere function along with the same key. Make note that the inputs should be a list of integers. \n"
   ]
  },
  {
   "cell_type": "code",
   "execution_count": null,
   "metadata": {},
   "outputs": [],
   "source": []
  },
  {
   "cell_type": "markdown",
   "metadata": {},
   "source": [
    "## Hints\n",
    "\n",
    "To start off here are a few hints. \n",
    "<ul>\n",
    "<li>Remember to crack the vigenere cipher there are two steps: first find the length of the key; second find the shift of each character of the key.\n",
    "<li>To start off convert the ciphertext into a list of integers and try and find the length of the key.\n",
    "<li>Below is a dictionary from the frequency of the lowercase english letters a-z. \n",
    "</ul>\n",
    "\n"
   ]
  },
  {
   "cell_type": "code",
   "execution_count": 3,
   "metadata": {},
   "outputs": [],
   "source": [
    "freq=[.082,.015,.028,.043,.127,.022,.020,.061,.070,.02,.08,.04,.024,.067,.015,.019,.001,.06,.063,.091,.028,.01,.024,0.002,.02,.001]\n",
    "lowercasedic={}\n",
    "count = 0\n",
    "\n",
    "for i in range(97,123):\n",
    "    lowercasedic[i]=freq[count]\n",
    "    count= count +1 \n"
   ]
  },
  {
   "cell_type": "markdown",
   "metadata": {},
   "source": [
    "Finally python has a way of generating subsequences relatively quickly. Suppose you have a list of numbers 1-100. If you wanted to partition the list into the modular classes base 10 this would be done using the :: operation. "
   ]
  },
  {
   "cell_type": "code",
   "execution_count": null,
   "metadata": {},
   "outputs": [],
   "source": []
  },
  {
   "cell_type": "code",
   "execution_count": null,
   "metadata": {},
   "outputs": [],
   "source": []
  },
  {
   "cell_type": "code",
   "execution_count": null,
   "metadata": {},
   "outputs": [],
   "source": []
  },
  {
   "cell_type": "code",
   "execution_count": null,
   "metadata": {},
   "outputs": [],
   "source": []
  },
  {
   "cell_type": "code",
   "execution_count": null,
   "metadata": {},
   "outputs": [],
   "source": []
  },
  {
   "cell_type": "code",
   "execution_count": null,
   "metadata": {},
   "outputs": [],
   "source": []
  },
  {
   "cell_type": "code",
   "execution_count": null,
   "metadata": {},
   "outputs": [],
   "source": []
  }
 ],
 "metadata": {
  "kernelspec": {
   "display_name": "Python 3",
   "language": "python",
   "name": "python3"
  },
  "language_info": {
   "codemirror_mode": {
    "name": "ipython",
    "version": 3
   },
   "file_extension": ".py",
   "mimetype": "text/x-python",
   "name": "python",
   "nbconvert_exporter": "python",
   "pygments_lexer": "ipython3",
   "version": "3.8.5"
  }
 },
 "nbformat": 4,
 "nbformat_minor": 4
}
