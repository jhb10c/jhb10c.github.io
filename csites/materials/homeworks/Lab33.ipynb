{
 "cells": [
  {
   "cell_type": "markdown",
   "metadata": {},
   "source": [
    "## Lab 3 - Deterministic Factoring \n",
    "\n",
    "The greatest common divisor of two integers a and b, is the largest integer d that divides both a and b. An algorithmic way of computing the gcd is by applying the Euclidean Algorthim. There exists an efficient implementation of the the Euclid Algorithim that runs in polynomial time called the the recursive Euclidean algorithm. The pseudocode for the recursive Euclidean algorithm can be seen below\n",
    "\n",
    "<b>The Recursive Euclidean algorithm GCD</b>  \n",
    "\n",
    "**Input**: Integers $a, b$ with $a \\geq b > 0$ \n",
    "\n",
    "**Output**: The greatest common divisor of $a$ and $b$  \n",
    "\n",
    "**Pseudo-code**:  \n",
    "\n",
    "    if b divides a  \n",
    "        return b  \n",
    "    else  \n",
    "        return GCD(b; a mod b)"
   ]
  },
  {
   "cell_type": "markdown",
   "metadata": {},
   "source": [
    "<b> Example 1.</b>\n",
    "\n",
    "An example of the GCD algorithm would be as follows: User applys the intial call, gcd(755, 250). By the algorthim, 250 does not divide 755 then return GCD(250,755 mod 755) = GCD(250,5). Before the algorithm returns the gcd, it recursively calls gcd(250,5). By the algorithm, 5 does divide 250 then it returns 5 to GCD(250,5). Then 5 is returned to the Intial call."
   ]
  },
  {
   "cell_type": "markdown",
   "metadata": {},
   "source": [
    "## Problem 1. \n",
    "\n",
    "\n",
    "Implement the Recursive Euclidean algorithm GCD as above. The function should be called **RGCD** with two integer inputs a,b. The return of **RGCD** will be the gcd of the inputs. Assume $a\\geq b$.\n",
    "\n",
    "Test Cases:\n",
    "<ul>\n",
    "<li>$RGCD(7,7777)   -->  7$\n",
    "<li>$RGCD(59,66)   --> 1$\n",
    "<li>$RGCD(235648,46782)   --> 2$\n",
    "</ul>"
   ]
  },
  {
   "cell_type": "code",
   "execution_count": 6,
   "metadata": {},
   "outputs": [],
   "source": [
    "def RGCD(a,b): "
   ]
  },
  {
   "cell_type": "markdown",
   "metadata": {},
   "source": [
    "During lecture we saw that for positive integers $a, b$ there exist integers $X, Y$ with $Xa + Y b = gcd(a, b)$. By modifying the Euclidean algorithm, we can find $X, Y$ in addition to computing $gcd(a, b)$.\n",
    "\n",
    "**The extended Euclidean algorithm eGCD**  \n",
    "**Input**: Integers $a, b$ with $a \\geq b > 0$  \n",
    "**Output**: $(d,X, Y )$ with $d = gcd(a, b)$ and $Xa + Y b = d$  \n",
    "**Psuedo-code:**  \n",
    "\n",
    "    if b divides a     \n",
    "        return (b, 0, 1)  \n",
    "    else   \n",
    "        Compute integers q, r with a = qb + r and 0 <= r < b  \n",
    "        (d,X, Y ) := eGCD(b; r) /* note that Xb + Y r = d  \n",
    "        return (d,Y, X-Yq )"
   ]
  },
  {
   "cell_type": "markdown",
   "metadata": {},
   "source": [
    "<b> Example 2.</b>\n",
    "\n",
    "An example of the eGCD algorithm would be as follows: User applys the intial call, eGCD(755, 250). By the algorthim, 250 does not divide 755 then run else statement. Compute r = 5 and q = 3. Then recursivly call eGCD(250,5). By the algorithm 5 divides 250 then return (5,0,1) to eGCD(250,5) and define the list (d,X,Y) to be (5,0,1). Then return (5,1, 0-1*3)"
   ]
  },
  {
   "cell_type": "markdown",
   "metadata": {},
   "source": [
    "## Problem 2. \n",
    "\n",
    "\n",
    "Implement the extended Euclidean algorithm eGCD as above. The function should be called **EGCD** with two integer inputs a,b. The return of **RGCD** will be the a list of integers $(d,X, Y )$ with $d = gcd(a, b)$ and $Xa + Y b = d$. Assume $a\\geq b$.\n",
    "\n",
    "Test Cases:\n",
    "<ul>\n",
    "<li>$RGCD(7777,7)   -->  (7,0,1)$\n",
    "<li>$RGCD(66,59)   --> (1,17,-19)$\n",
    "<li>$RGCD(235648,46782)   --> (2,-9421,47455)$\n",
    "</ul>"
   ]
  },
  {
   "cell_type": "code",
   "execution_count": 8,
   "metadata": {},
   "outputs": [
    {
     "ename": "SyntaxError",
     "evalue": "unexpected EOF while parsing (<ipython-input-8-24fc39332a77>, line 1)",
     "output_type": "error",
     "traceback": [
      "\u001b[1;36m  File \u001b[1;32m\"<ipython-input-8-24fc39332a77>\"\u001b[1;36m, line \u001b[1;32m1\u001b[0m\n\u001b[1;33m    def EGCD(a,b):\u001b[0m\n\u001b[1;37m                  ^\u001b[0m\n\u001b[1;31mSyntaxError\u001b[0m\u001b[1;31m:\u001b[0m unexpected EOF while parsing\n"
     ]
    }
   ],
   "source": [
    "def EGCD(a,b):"
   ]
  },
  {
   "cell_type": "markdown",
   "metadata": {},
   "source": [
    "## Problem 3\n",
    "\n",
    "Find the largest prime factor of 600851475143. "
   ]
  },
  {
   "cell_type": "code",
   "execution_count": null,
   "metadata": {},
   "outputs": [],
   "source": []
  },
  {
   "cell_type": "code",
   "execution_count": null,
   "metadata": {},
   "outputs": [],
   "source": []
  }
 ],
 "metadata": {
  "kernelspec": {
   "display_name": "Python 3",
   "language": "python",
   "name": "python3"
  },
  "language_info": {
   "codemirror_mode": {
    "name": "ipython",
    "version": 3
   },
   "file_extension": ".py",
   "mimetype": "text/x-python",
   "name": "python",
   "nbconvert_exporter": "python",
   "pygments_lexer": "ipython3",
   "version": "3.8.5"
  }
 },
 "nbformat": 4,
 "nbformat_minor": 4
}
