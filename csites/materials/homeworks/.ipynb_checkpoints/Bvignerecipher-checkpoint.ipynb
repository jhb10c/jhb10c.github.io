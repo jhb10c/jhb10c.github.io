{
 "cells": [
  {
   "cell_type": "markdown",
   "metadata": {},
   "source": [
    "## Vignere Cipher\n",
    "\n",
    "The vigenere cipher is a private key encryption scheme.  \n",
    "\n",
    "The encryption algorithm and decryption algorithm are identical. We will describe the encryption algorithm. It take two inputs: a message and a key. To encrypt the message with the key, each charactor of the message is XORed with a character of the key sequentially. If the key is shorter then the message then they encryption wraps around back to the beginning of the key. If the key length is equal to the message length then the encryption algorithm agrees with the one-time pad.\n",
    "\n",
    "The vigenere cipher in general is not perfectly secure. We show how to attack the vigenere cipher in the file called Lab 2. Note, when the key length is equal to the message length, then the vigenere cipher is perfectly secret. \n",
    "\n",
    "Below we implement the Encryption/Decryption Algorithm."
   ]
  },
  {
   "cell_type": "code",
   "execution_count": null,
   "metadata": {},
   "outputs": [],
   "source": [
    "def chartoint(message):\n",
    "    \"\"\"converts ascii string to corresponding list of integers\n",
    "    input: a string of ascii characters\n",
    "    ouput: a list of the corresponding integer representation\n",
    "    \"\"\"\n",
    "    chex = []\n",
    "    for i in range(0,len(message)):\n",
    "        # ord is a function that takes an ascii character and returns decimal form \n",
    "        chex.append(ord(message[i]))\n",
    "    return chex\n",
    "\n",
    "\n",
    "def inttochar(message):\n",
    "    \"\"\"converts list of integers to corresponding ascii string\n",
    "    input: a list of the corresponding integer representation\n",
    "    ouput:  a string of ascii characters\n",
    "    \"\"\"\n",
    "    hold = ''\n",
    "    for i in message:\n",
    "        # chr is a function that takes a decimal character and returns ascii form \n",
    "        hold=hold + chr(i)\n",
    "    return hold\n",
    "\n",
    "\n",
    "\n",
    "def rotate(lista,n):\n",
    "    \"\"\"This function shifts a string by n characters\n",
    "    input: a list of integers \n",
    "    ouput: the list of integers have been shifted to the right by n\"\n",
    "    \"\"\"\n",
    "    return lista[n:]+lista[:n]\n",
    "\n",
    "\n",
    "def vigenere(message,key):\n",
    "    \"\"\"vigenere encryption/decryption algorithm\n",
    "    inputs: message - the message that we wish to encrypt/decrypu must be a string\n",
    "            key - the key used to encrypt/decrypt. must be a string\n",
    "    output: cipher text / decrypted cipher\n",
    "    \n",
    "    \"\"\"\n",
    "    m=chartoint(message)\n",
    "    k=chartoint(key)\n",
    "    hold = [] \n",
    "    for i in m:\n",
    "        hold.append(i^k[0])\n",
    "        key=rotate(k,1)\n",
    "    return inttochar(hold) \n",
    "\n",
    "#vigenere('hello','a')\n",
    "#vigenere('\\t\\x04\\r\\r\\x0e','a')"
   ]
  }
 ],
 "metadata": {
  "kernelspec": {
   "display_name": "Python 3",
   "language": "python",
   "name": "python3"
  },
  "language_info": {
   "codemirror_mode": {
    "name": "ipython",
    "version": 3
   },
   "file_extension": ".py",
   "mimetype": "text/x-python",
   "name": "python",
   "nbconvert_exporter": "python",
   "pygments_lexer": "ipython3",
   "version": "3.8.5"
  }
 },
 "nbformat": 4,
 "nbformat_minor": 4
}
