{
 "cells": [
  {
   "cell_type": "markdown",
   "metadata": {},
   "source": [
    "## Implemenating the Vigenere Cipher\n",
    "\n",
    "In this programming lab, you will write a program that allows you to encrypt messages using the Vigenere cipher, where the encryption is done addition modulo 26.\n",
    "\n",
    "The function should be called **vigenc** with two inputs a string called message and a list of numbers called key. The return of vigenc will be the ciphertext, which is a string, obtained from encrypting the message with respect to the key. Assune all messages and ciphertexts are lowercase english letters. \n",
    "\n",
    "Test Cases:\n",
    "<ul>\n",
    "<li>vienc(\"droptop\",[17,4,8])   ->  'uvwgxwg'\n",
    "<li>vienc(\"droptop\",[1,1,2,7,4,1,2,7,4,1,2,7,4])   ->'esqwxpr'\n",
    "<li>vienc(\"droptop\",[1])   -> 'espqupq'\n",
    "</ul>\n",
    "\n"
   ]
  },
  {
   "cell_type": "markdown",
   "metadata": {},
   "source": [
    "**Hints**\n",
    "<ul>\n",
    "\n",
    "<li>Define a list that contains the lowercase english letters and the the numbers 0-25 such that each position of the list is a sublist with a letter and the corresponding number. (EX - [[a,0],[b,1],...,[z,25]])\n",
    "\n",
    "<li>Define a function that maps a message (string) to the list of corresponding numbers. (EX 'abc' -> [0,1,2])\n",
    "\n",
    "<li>Define a function that maps a list of numbers to the corresponding string. (EX [0,1,2]->'abc' )\n",
    "</ul>\n",
    "\n"
   ]
  },
  {
   "cell_type": "code",
   "execution_count": null,
   "metadata": {},
   "outputs": [],
   "source": []
  }
 ],
 "metadata": {
  "kernelspec": {
   "display_name": "Python 3",
   "language": "python",
   "name": "python3"
  },
  "language_info": {
   "codemirror_mode": {
    "name": "ipython",
    "version": 3
   },
   "file_extension": ".py",
   "mimetype": "text/x-python",
   "name": "python",
   "nbconvert_exporter": "python",
   "pygments_lexer": "ipython3",
   "version": "3.8.5"
  }
 },
 "nbformat": 4,
 "nbformat_minor": 4
}
