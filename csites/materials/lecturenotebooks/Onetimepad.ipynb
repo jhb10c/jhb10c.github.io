{
 "cells": [
  {
   "cell_type": "markdown",
   "metadata": {},
   "source": [
    "## Implemenating the One Time Pad Cipher\n",
    "\n",
    "Today, we will write a program that allows you to encrypt messages using the one time pad cipher, where the encryption is done using XOR.\n",
    "\n",
    "To implement the one time pad we will complete the following functions:\n",
    "1. Convert Hexidecimal strings to integers.\n",
    "2. Compute XOR between two integer numbers\n",
    "3. Convert integers back to hexidecimal strings \n",
    "4. Use functions 1-3 to write complete the one time pad encryption\n",
    "\n"
   ]
  },
  {
   "cell_type": "markdown",
   "metadata": {},
   "source": [
    "## Converting Hex to binary\n",
    "\n",
    "The bin() function converts an integer into its binary equivalent."
   ]
  },
  {
   "cell_type": "code",
   "execution_count": null,
   "metadata": {},
   "outputs": [],
   "source": []
  },
  {
   "cell_type": "code",
   "execution_count": null,
   "metadata": {},
   "outputs": [],
   "source": []
  },
  {
   "cell_type": "code",
   "execution_count": 15,
   "metadata": {},
   "outputs": [
    {
     "data": {
      "text/plain": [
       "'0b1011'"
      ]
     },
     "execution_count": 15,
     "metadata": {},
     "output_type": "execute_result"
    }
   ],
   "source": [
    "bin(11)"
   ]
  },
  {
   "cell_type": "markdown",
   "metadata": {},
   "source": [
    "So we need to first convert a hex string into a decimal and then feed it into this function. This can be done with the int function. Remember thet int() converts a string into an integer. There is a secondary argument that converts a string to an integer base 2,4,8,16.\n",
    "\n",
    "int('hexstring',1 ) produces the decimal representation of the hex number. "
   ]
  },
  {
   "cell_type": "code",
   "execution_count": 17,
   "metadata": {},
   "outputs": [
    {
     "data": {
      "text/plain": [
       "17"
      ]
     },
     "execution_count": 17,
     "metadata": {},
     "output_type": "execute_result"
    }
   ],
   "source": [
    "i = int('11', 16)\n",
    "i"
   ]
  },
  {
   "cell_type": "markdown",
   "metadata": {},
   "source": [
    "By composing these functions we get an can convert from hex to binary. "
   ]
  },
  {
   "cell_type": "markdown",
   "metadata": {},
   "source": [
    "def hex_to_bin(hexstring):\n",
    "    return bin(int(hexstring,16))[2:]\n",
    "\n",
    "\n",
    "a=int(hex_to_bin('B'))\n",
    "b= int(hex_to_bin('C'))\n",
    "\n",
    "#a=int(hex_to_bin('11',2))\n",
    "#b= int(hex_to_bin('12',2))\n",
    "\n",
    "print(a,b)"
   ]
  },
  {
   "cell_type": "markdown",
   "metadata": {},
   "source": [
    "## Hex to integers and int to hex\n",
    "\n",
    "We can convert hex strings into integers using int('hexnumber',16). The input is any string hexidecimal number and the output is the integer representation. \n",
    "\n",
    "To implelement the one time pad we will first convert a hex strings into a decimal number then apply the XOR operator."
   ]
  },
  {
   "cell_type": "code",
   "execution_count": 13,
   "metadata": {},
   "outputs": [
    {
     "data": {
      "text/plain": [
       "12"
      ]
     },
     "execution_count": 13,
     "metadata": {},
     "output_type": "execute_result"
    }
   ],
   "source": [
    "int('c',16)"
   ]
  },
  {
   "cell_type": "markdown",
   "metadata": {},
   "source": [
    "Equivalently, we can convert any integer into hex using the hex function. "
   ]
  },
  {
   "cell_type": "code",
   "execution_count": 20,
   "metadata": {},
   "outputs": [
    {
     "data": {
      "text/plain": [
       "'0xc'"
      ]
     },
     "execution_count": 20,
     "metadata": {},
     "output_type": "execute_result"
    }
   ],
   "source": [
    "hex(12)"
   ]
  },
  {
   "cell_type": "markdown",
   "metadata": {},
   "source": [
    "## Compute XOR between two binary strings\n"
   ]
  },
  {
   "cell_type": "markdown",
   "metadata": {},
   "source": [
    "Bitwise XOR sets the bits in the result to 1 if either, but not both, of the corresponding bits in the two operands is 1. In python this is done by the ^ operator where both numbers types are **integers**. "
   ]
  },
  {
   "cell_type": "code",
   "execution_count": 2,
   "metadata": {
    "scrolled": true
   },
   "outputs": [
    {
     "name": "stdout",
     "output_type": "stream",
     "text": [
      "11 12 7\n"
     ]
    }
   ],
   "source": [
    "print(11,12,11^12)"
   ]
  },
  {
   "cell_type": "markdown",
   "metadata": {},
   "source": [
    "Python takes the integers converts them into binary representation, computes the XOR and returns the result as an integer. For example the binary representation of 11 is 1011 and the binary representation of 12 is 1100. Then 1011^1100 = 0111 which is equivalent to the decimal number 7. "
   ]
  },
  {
   "cell_type": "markdown",
   "metadata": {},
   "source": [
    "## One Time Pad Encryption "
   ]
  },
  {
   "cell_type": "code",
   "execution_count": null,
   "metadata": {},
   "outputs": [],
   "source": []
  },
  {
   "cell_type": "markdown",
   "metadata": {},
   "source": [
    "To implement the one time pad we can apply XOR to the hex strings. This is done by:\n",
    "<ul>\n",
    "<li> Converting hex strings to integers \n",
    "<li> Apply the XOR operation on the corresponding ints \n",
    "<li> then switch the result back to hex strings. \n",
    "</ul>\n",
    "This will allow us to find the ASCii representation quickly. "
   ]
  },
  {
   "cell_type": "code",
   "execution_count": 21,
   "metadata": {},
   "outputs": [
    {
     "data": {
      "text/plain": [
       "'7'"
      ]
     },
     "execution_count": 21,
     "metadata": {},
     "output_type": "execute_result"
    }
   ],
   "source": [
    "def hexXOR(hstring1,hstring2):\n",
    "    \"\"\"Apply XOR to two given hex strings\"\"\"\n",
    "    intXOR= int(hstring1,16) ^ int(hstring2,16)\n",
    "    return hex(intXOR)[2:]\n",
    "\n",
    "\n",
    "hexXOR('B','C')"
   ]
  },
  {
   "cell_type": "markdown",
   "metadata": {},
   "source": [
    "## One Time Pad Encryption ALgorithm"
   ]
  },
  {
   "cell_type": "code",
   "execution_count": 22,
   "metadata": {},
   "outputs": [
    {
     "data": {
      "text/plain": [
       "'7'"
      ]
     },
     "execution_count": 22,
     "metadata": {},
     "output_type": "execute_result"
    }
   ],
   "source": [
    "def OTPenc(message,key):\n",
    "    \"The message and the key are input as hexidecimal numbers. Converted to binary numbers XOR returned as hex numbers.\"\n",
    "    return hexXOR(message,key)\n",
    "    \n",
    "OTPenc('B','C')"
   ]
  },
  {
   "cell_type": "code",
   "execution_count": null,
   "metadata": {},
   "outputs": [],
   "source": []
  }
 ],
 "metadata": {
  "kernelspec": {
   "display_name": "Python 3",
   "language": "python",
   "name": "python3"
  },
  "language_info": {
   "codemirror_mode": {
    "name": "ipython",
    "version": 3
   },
   "file_extension": ".py",
   "mimetype": "text/x-python",
   "name": "python",
   "nbconvert_exporter": "python",
   "pygments_lexer": "ipython3",
   "version": "3.8.5"
  }
 },
 "nbformat": 4,
 "nbformat_minor": 4
}
