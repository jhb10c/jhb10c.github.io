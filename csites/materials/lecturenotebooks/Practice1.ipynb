{
 "cells": [
  {
   "cell_type": "code",
   "execution_count": 20,
   "metadata": {},
   "outputs": [],
   "source": [
    "v=\"1b37373331363f78151b7f2b783431333d78397828372d363c78373e783a393b3736\"\n",
    "\n",
    "\n",
    "def hextoint(message):\n",
    "    \"\"\"converts string of hex numbers to corresponding list of integers.\n",
    "    HINT: USE THIS TO CONVERT ciphertext to list of integers.\"\"\"\n",
    "    chex = []\n",
    "    for i in range(0,len(message),2):\n",
    "        chex.append(int(message[i:i+2],16))\n",
    "    return chex\n",
    "\n",
    "\n",
    "\n",
    "\n",
    "def inttochar(message):\n",
    "    \"\"\"converts list of integers to corresponding ascii string\"\"\"\n",
    "    hold = ''\n",
    "    for i in message:\n",
    "        # chr is a function that takes a decimal character and returns ascii form \n",
    "        hold=hold + chr(i)\n",
    "    return hold"
   ]
  },
  {
   "cell_type": "code",
   "execution_count": 21,
   "metadata": {},
   "outputs": [
    {
     "data": {
      "text/plain": [
       "68"
      ]
     },
     "execution_count": 21,
     "metadata": {},
     "output_type": "execute_result"
    }
   ],
   "source": []
  },
  {
   "cell_type": "code",
   "execution_count": null,
   "metadata": {},
   "outputs": [],
   "source": []
  },
  {
   "cell_type": "code",
   "execution_count": null,
   "metadata": {},
   "outputs": [],
   "source": []
  },
  {
   "cell_type": "code",
   "execution_count": null,
   "metadata": {},
   "outputs": [],
   "source": []
  }
 ],
 "metadata": {
  "kernelspec": {
   "display_name": "Python 3",
   "language": "python",
   "name": "python3"
  },
  "language_info": {
   "codemirror_mode": {
    "name": "ipython",
    "version": 3
   },
   "file_extension": ".py",
   "mimetype": "text/x-python",
   "name": "python",
   "nbconvert_exporter": "python",
   "pygments_lexer": "ipython3",
   "version": "3.8.5"
  }
 },
 "nbformat": 4,
 "nbformat_minor": 4
}
