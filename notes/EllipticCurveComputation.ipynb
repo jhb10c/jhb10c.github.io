{
 "cells": [
  {
   "cell_type": "markdown",
   "id": "4aa23444",
   "metadata": {},
   "source": [
    "## Elliptic Curve Example \n",
    "\n",
    "There are many great introductions to elliptic curves that cover the intuition and abstract ideas in great detail. Some links of these articles are noted at the bottom. \n",
    "\n",
    "In this note, we will focus on some abstract nonsense about elliptic curves then give an example of the group operation for a small elliptic curve. The computation of these group operation will be done with an naive direct approach since the group is small. \n",
    "\n",
    "- Millers Algorithm\n",
    "- BLS12-381 Curve\n",
    "- Pairing\n",
    "\n",
    "\n",
    "##  General Abstract Nonsense\n",
    "\n",
    "An elliptic curve over a finite field $K$ is the set of point in $K^2$ which solve the equation below: \n",
    "\n",
    "$$ y^2 = x^3 +ax +b $$\n",
    "\n",
    "Suprisingly (given some more conditions), this set of points form a group when the point $O$, being the unique point at infinity, is added to the set. For finite fields of a prime order, the elliptic curve is itself a cyclic group of is isomorphic to the direct product of cyclic groups. There are stronger results on the classification of an Elliptic curves up to isomorphism but for an overview this gives a pretty nice guarantee. \n",
    "\n",
    "\n",
    "## Example Computation \n",
    "\n",
    "\n",
    "### 1. Checking whether points lay on E\n",
    "We will now look at the elliptic curve over the field of order 101 defined by the coefficents: "
   ]
  },
  {
   "cell_type": "code",
   "execution_count": 54,
   "id": "cab07337",
   "metadata": {},
   "outputs": [],
   "source": [
    "# Coefficents\n",
    "a = 0\n",
    "b = 3\n",
    "# Order of Field\n",
    "p = 101\n",
    "\n"
   ]
  },
  {
   "cell_type": "markdown",
   "id": "bff3f9a8",
   "metadata": {},
   "source": [
    "Lets now look at the set of points in $K^2$ and try to detemine for a few examples which lay on our curve $E$. This could be done as our set is of order 101^2. However, it may not be to enlightening to look at. "
   ]
  },
  {
   "cell_type": "code",
   "execution_count": 55,
   "id": "196d49e5",
   "metadata": {},
   "outputs": [
    {
     "name": "stdout",
     "output_type": "stream",
     "text": [
      "Is the point (0,1) on curve $E$:  False\n",
      "Is the point (1,1) on curve $E$:  False\n",
      "Is the point (1,2) on curve $E$:  True\n",
      "Is the point (2,2) on curve $E$:  False\n",
      "Is the point (2,1) on curve $E$:  False\n",
      "Is the point (3,7) on curve $E$:  False\n"
     ]
    }
   ],
   "source": [
    "print('Is the point (0,1) on curve $E$: ',valid(Point(0,1)))\n",
    "print('Is the point (1,1) on curve $E$: ',valid(Point(1,1)))\n",
    "print('Is the point (1,2) on curve $E$: ',valid(Point(1,2)))\n",
    "print('Is the point (2,2) on curve $E$: ',valid(Point(2,2)))\n",
    "print('Is the point (2,1) on curve $E$: ',valid(Point(2,1)))\n",
    "print('Is the point (3,7) on curve $E$: ',valid(Point(3,7)))"
   ]
  },
  {
   "cell_type": "markdown",
   "id": "a7d6d3cd",
   "metadata": {},
   "source": [
    "We can even pick a point at random and see if it is on our curve. We\n",
    "could also look at the probability of how often the a random point lies on the curve but will leave it to the reader. "
   ]
  },
  {
   "cell_type": "code",
   "execution_count": 56,
   "id": "0e57088d",
   "metadata": {},
   "outputs": [
    {
     "name": "stdout",
     "output_type": "stream",
     "text": [
      "Is the point (15,42) on curve $E$:  False\n"
     ]
    }
   ],
   "source": [
    "from random import randint\n",
    "x = randint(0,101)\n",
    "y = randint(0,101)\n",
    "\n",
    "print('Is the point ({},{}) on curve $E$: '.format(x,y),valid(Point(x,y)))"
   ]
  },
  {
   "cell_type": "markdown",
   "id": "62c8c00a",
   "metadata": {},
   "source": [
    "### 2. Generating the Elliptic Curve Group\n",
    "\n",
    "\n",
    "From abstract nonsense, we know that the elliptic curve will either be cylic or the the direct product of cyclic groups. As such either our curve will have 1 or 2 generators."
   ]
  },
  {
   "cell_type": "code",
   "execution_count": 57,
   "id": "e1ee9911",
   "metadata": {},
   "outputs": [
    {
     "data": {
      "text/html": [
       "<table border=\"1\" class=\"dataframe\">\n",
       "    <thead>\n",
       "        <tr>\n",
       "            <th>Points</th>\n",
       "        </tr>\n",
       "    </thead>\n",
       "    <tbody>\n",
       "        <tr>\n",
       "            <td>Point(x=1, y=2)  </td>\n",
       "        </tr>\n",
       "        <tr>\n",
       "            <td>Point(x=68, y=74)</td>\n",
       "        </tr>\n",
       "        <tr>\n",
       "            <td>Point(x=26, y=45)</td>\n",
       "        </tr>\n",
       "        <tr>\n",
       "            <td>Point(x=65, y=98)</td>\n",
       "        </tr>\n",
       "        <tr>\n",
       "            <td>Point(x=12, y=32)</td>\n",
       "        </tr>\n",
       "        <tr>\n",
       "            <td>Point(x=32, y=42)</td>\n",
       "        </tr>\n",
       "        <tr>\n",
       "            <td>Point(x=91, y=35)</td>\n",
       "        </tr>\n",
       "        <tr>\n",
       "            <td>Point(x=18, y=49)</td>\n",
       "        </tr>\n",
       "        <tr>\n",
       "            <td>Point(x=18, y=52)</td>\n",
       "        </tr>\n",
       "        <tr>\n",
       "            <td>Point(x=91, y=66)</td>\n",
       "        </tr>\n",
       "        <tr>\n",
       "            <td>Point(x=32, y=59)</td>\n",
       "        </tr>\n",
       "        <tr>\n",
       "            <td>Point(x=12, y=69)</td>\n",
       "        </tr>\n",
       "        <tr>\n",
       "            <td>Point(x=65, y=3) </td>\n",
       "        </tr>\n",
       "        <tr>\n",
       "            <td>Point(x=26, y=56)</td>\n",
       "        </tr>\n",
       "        <tr>\n",
       "            <td>Point(x=68, y=27)</td>\n",
       "        </tr>\n",
       "        <tr>\n",
       "            <td>Point(x=1, y=99) </td>\n",
       "        </tr>\n",
       "        <tr>\n",
       "            <td>Origin           </td>\n",
       "        </tr>\n",
       "    </tbody>\n",
       "</table>"
      ],
      "text/plain": [
       "<IPython.core.display.HTML object>"
      ]
     },
     "metadata": {},
     "output_type": "display_data"
    }
   ],
   "source": [
    "P = Point(1, 2)\n",
    "#\n",
    "#\n",
    "\n",
    "\n",
    "def generate_cyclic_subgroup(g):\n",
    "    \"\"\"\n",
    "    Given a element g generates the cyclic subgroup using bruteforce. \n",
    "    \"\"\"\n",
    "    hold = [g]\n",
    "    Gen = g\n",
    "    for i in range(1,p+1):\n",
    "        g = ec_add(Gen,g)\n",
    "        hold.append(g)\n",
    "        if g == O:\n",
    "            break\n",
    "    return hold\n",
    "\n",
    "        \n",
    "\n",
    "\n",
    "ok = generate_cyclic_subgroup(P)\n",
    "Table().with_column('Points',ok).show()"
   ]
  },
  {
   "cell_type": "markdown",
   "id": "a4373afb",
   "metadata": {},
   "source": [
    "\n",
    "Above is the elements in $E$ that are generated by the point(1,2). However question remains: is this all the elements within our set? \n",
    "\n",
    "Lets check by brute force."
   ]
  },
  {
   "cell_type": "code",
   "execution_count": 58,
   "id": "2126ff72",
   "metadata": {},
   "outputs": [
    {
     "name": "stdout",
     "output_type": "stream",
     "text": [
      "Number Of Remaining Elements: 85\n"
     ]
    },
    {
     "data": {
      "text/html": [
       "<table border=\"1\" class=\"dataframe\">\n",
       "    <thead>\n",
       "        <tr>\n",
       "            <th>Remaining elements</th>\n",
       "        </tr>\n",
       "    </thead>\n",
       "    <tbody>\n",
       "        <tr>\n",
       "            <td>[ 3 38]           </td>\n",
       "        </tr>\n",
       "        <tr>\n",
       "            <td>[ 3 63]           </td>\n",
       "        </tr>\n",
       "        <tr>\n",
       "            <td>[ 6 44]           </td>\n",
       "        </tr>\n",
       "        <tr>\n",
       "            <td>[ 6 57]           </td>\n",
       "        </tr>\n",
       "        <tr>\n",
       "            <td>[ 7 12]           </td>\n",
       "        </tr>\n",
       "        <tr>\n",
       "            <td>[ 7 89]           </td>\n",
       "        </tr>\n",
       "        <tr>\n",
       "            <td>[9 5]             </td>\n",
       "        </tr>\n",
       "        <tr>\n",
       "            <td>[ 9 96]           </td>\n",
       "        </tr>\n",
       "        <tr>\n",
       "            <td>[11 18]           </td>\n",
       "        </tr>\n",
       "        <tr>\n",
       "            <td>[11 83]           </td>\n",
       "        </tr>\n",
       "    </tbody>\n",
       "</table>\n",
       "<p>... (75 rows omitted)</p>"
      ],
      "text/plain": [
       "Remaining elements\n",
       "[ 3 38]\n",
       "[ 3 63]\n",
       "[ 6 44]\n",
       "[ 6 57]\n",
       "[ 7 12]\n",
       "[ 7 89]\n",
       "[9 5]\n",
       "[ 9 96]\n",
       "[11 18]\n",
       "[11 83]\n",
       "... (75 rows omitted)"
      ]
     },
     "execution_count": 58,
     "metadata": {},
     "output_type": "execute_result"
    }
   ],
   "source": [
    "tablecol = []\n",
    "count =0\n",
    "for i in range(0,101):\n",
    "    for j in range(0,101):\n",
    "        if valid(Point(i,j)) and Point(i,j) not in ok:\n",
    "            tablecol.append(Point(i,j))\n",
    "            count= count +1\n",
    "print('Number Of Remaining Elements:',count)\n",
    "Table().with_column(\"Remaining elements\",tablecol)"
   ]
  },
  {
   "cell_type": "markdown",
   "id": "24f47c0f",
   "metadata": {},
   "source": [
    "This more or less tells us that our group is not generated by the point (1,2) and contains 102 elements. Lets see if we can find a generator"
   ]
  },
  {
   "cell_type": "code",
   "execution_count": 59,
   "id": "fd56c10e",
   "metadata": {},
   "outputs": [
    {
     "data": {
      "text/plain": [
       "102"
      ]
     },
     "execution_count": 59,
     "metadata": {},
     "output_type": "execute_result"
    }
   ],
   "source": [
    "ok = generate_cyclic_subgroup(Point(6,44))\n",
    "len(ok)"
   ]
  },
  {
   "cell_type": "markdown",
   "id": "7d78e6b9",
   "metadata": {},
   "source": [
    "# Conclusions \n",
    "\n",
    "\n",
    "1. https://medium.com/@VitalikButerin/exploring-elliptic-curve-pairings-c73c1864e627\n",
    "2. https://blog.statebox.org/elliptic-curve-pairings-213131769fac#:~:text=An%20elliptic%20curve%20pairing%20is,and%20integers%20a%20and%20b%20.\n",
    "3. https://alinush.github.io/2022/12/31/pairings-or-bilinear-maps.html"
   ]
  },
  {
   "cell_type": "code",
   "execution_count": 8,
   "id": "ae9730e9",
   "metadata": {},
   "outputs": [],
   "source": [
    "#*Please note this code has been pulled from stackoverflow however the link has been lost. If this code looks recoginizable please let me know.*#\n",
    "\n",
    "\n",
    "######################################################################\n",
    "\"\"\"Here we are creating a point class to represent the affine points in  \n",
    "   our space K^2. \"\"\"\n",
    "######################################################################\n",
    "from collections import namedtuple\n",
    "Point = namedtuple(\"Point\", \"x y\")\n",
    "\n",
    "\n",
    "\n",
    "######################################################################\n",
    "\"\"\"Lets The point at infinity (origin for the group law).\"\"\"\n",
    "######################################################################\n",
    "O = 'Origin'\n",
    "\n",
    "\n",
    "\n",
    "######################################################################\n",
    "\"\"\"Determine whether we have a valid representation of a point\n",
    "   on our curve.  We assume that the x and y coordinates\n",
    "   are always reduced modulo p, so that we can compare\n",
    "   two points for equality with a simple ==.\"\"\"\n",
    "######################################################################\n",
    "\n",
    "def valid(P):\n",
    "    if P == O:\n",
    "        return True\n",
    "    else:\n",
    "        return ((P.y**2 - (P.x**3 + a*P.x + b)) % p == 0 and 0 <= P.x < p and 0 <= P.y < p)\n",
    "\n",
    "    \n",
    "    \n",
    "######################################################################\n",
    "    \"\"\"\n",
    "    Compute an inverse for x modulo p, assuming that x\n",
    "    is not divisible by p.\n",
    "    \"\"\"\n",
    "######################################################################\n",
    "def inv_mod_p(x):\n",
    "    if x % p == 0:\n",
    "        raise ZeroDivisionError(\"Impossible inverse\")\n",
    "    return pow(x, p-2, p)\n",
    "\n",
    "######################################################################\n",
    "    \"\"\"\n",
    "    Inverse of the point P on the elliptic curve y^2 = x^3 + ax + b.\n",
    "    \"\"\"\n",
    "######################################################################\n",
    "\n",
    "\n",
    "def ec_inv(P):\n",
    "    if P == O:\n",
    "        return P\n",
    "    return Point(P.x, (-P.y)%p)\n",
    "\n",
    "######################################################################\n",
    "    \"\"\"\n",
    "    Sum of the points P and Q on the elliptic curve y^2 = x^3 + ax + b.\n",
    "    \"\"\"\n",
    "######################################################################\n",
    "\n",
    "def ec_add(P, Q):\n",
    "    if not (valid(P) and valid(Q)):\n",
    "        raise ValueError(\"Invalid inputs\")\n",
    "\n",
    "    # Deal with the special cases where either P, Q, or P + Q is\n",
    "    # the origin.\n",
    "    if P == O:\n",
    "        result = Q\n",
    "    elif Q == O:\n",
    "        result = P\n",
    "    elif Q == ec_inv(P):\n",
    "        result = O\n",
    "    else:\n",
    "        # Cases not involving the origin.\n",
    "        if P == Q:\n",
    "            dydx = (3 * P.x**2 + a) * inv_mod_p(2 * P.y)\n",
    "        else:\n",
    "            dydx = (Q.y - P.y) * inv_mod_p(Q.x - P.x)\n",
    "        x = (dydx**2 - P.x - Q.x) % p\n",
    "        y = (dydx * (P.x - x) - P.y) % p\n",
    "        result = Point(x, y)\n",
    "\n",
    "    # The above computations *should* have given us another point\n",
    "    # on the curve.\n",
    "    assert valid(result)\n",
    "    return result\n",
    "\n"
   ]
  },
  {
   "cell_type": "code",
   "execution_count": null,
   "id": "2e333ffa",
   "metadata": {},
   "outputs": [],
   "source": [
    "# Defining our Elliptic Curve over the field of order 101\n",
    "a = 0\n",
    "b = 3\n",
    "p = 101\n",
    "#\n"
   ]
  }
 ],
 "metadata": {
  "kernelspec": {
   "display_name": "Python 3",
   "language": "python",
   "name": "python3"
  },
  "language_info": {
   "codemirror_mode": {
    "name": "ipython",
    "version": 3
   },
   "file_extension": ".py",
   "mimetype": "text/x-python",
   "name": "python",
   "nbconvert_exporter": "python",
   "pygments_lexer": "ipython3",
   "version": "3.8.8"
  }
 },
 "nbformat": 4,
 "nbformat_minor": 5
}
